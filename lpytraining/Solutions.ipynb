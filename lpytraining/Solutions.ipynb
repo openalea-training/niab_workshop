{
 "cells": [
  {
   "cell_type": "code",
   "execution_count": 1,
   "id": "2112e8e8",
   "metadata": {
    "ExecuteTime": {
     "end_time": "2021-10-15T10:45:48.339450Z",
     "start_time": "2021-10-15T10:45:47.530479Z"
    }
   },
   "outputs": [],
   "source": [
    "from pgljupyter import *"
   ]
  },
  {
   "cell_type": "markdown",
   "id": "3451b443",
   "metadata": {},
   "source": [
    "## Barnley Fern "
   ]
  },
  {
   "cell_type": "code",
   "execution_count": 22,
   "id": "a9309a54",
   "metadata": {
    "ExecuteTime": {
     "end_time": "2021-10-07T15:47:32.022453Z",
     "start_time": "2021-10-07T15:47:32.012176Z"
    }
   },
   "outputs": [
    {
     "data": {
      "application/vnd.jupyter.widget-view+json": {
       "model_id": "97707d200fff4d26abd0532c10f56bde",
       "version_major": 2,
       "version_minor": 0
      },
      "text/plain": [
       "LsystemWidget(animate=True, derivationLength=11, is_magic=True, scene={'data': b'x\\xdaSLrw\\xf5\\xf7e`Pp\\xe0\\xe5…"
      ]
     },
     "metadata": {},
     "output_type": "display_data"
    }
   ],
   "source": [
    "%%lpy -w 20 -a True\n",
    "\n",
    "s_top = 0.7 \n",
    "s_lat = 1/2\n",
    "r = 3\n",
    "Axiom: _(0.01) ,(2) A(1)\n",
    "derivation length: 10\n",
    "production:\n",
    "A(s) --> F(s) [+A(s*s_lat)]-(r)F(s)[/(180)+A(s*s_lat)]-(r)A(s*s_top)\n"
   ]
  },
  {
   "cell_type": "markdown",
   "id": "da3e0e17",
   "metadata": {},
   "source": [
    "# Trees"
   ]
  },
  {
   "cell_type": "code",
   "execution_count": 21,
   "id": "8ef939f1",
   "metadata": {
    "ExecuteTime": {
     "end_time": "2021-10-07T14:21:04.824343Z",
     "start_time": "2021-10-07T14:21:04.813234Z"
    }
   },
   "outputs": [
    {
     "data": {
      "application/vnd.jupyter.widget-view+json": {
       "model_id": "77c8ec82d6f1447d8355cadc72ad1795",
       "version_major": 2,
       "version_minor": 0
      },
      "text/plain": [
       "LsystemWidget(animate=True, derivationLength=5, is_magic=True, scene={'data': b\"x\\xdaSLrw\\xf5\\xf7e`Pp\\xe0\\xe5R…"
      ]
     },
     "metadata": {},
     "output_type": "display_data"
    }
   ],
   "source": [
    "%%lpy -a True -w 10\n",
    "from random import randint, seed\n",
    "dl = 0.5\n",
    "ds = 0.1\n",
    "seed(0)\n",
    "\n",
    "module A\n",
    "Axiom: Elasticity(0.03) @Gc A\n",
    "production:\n",
    "derivation length: 4\n",
    "\n",
    "A:\n",
    "  nproduce /(137.5) Segment(1)\n",
    "  nblateralchild = randint(2, 4)\n",
    "  for i in range(nblateralchild):\n",
    "     nproduce [  /(i*360./nblateralchild) ^(60) A ]\n",
    "\n",
    "Segment(l) --> Segment(l+dl)\n",
    "interpretation:\n",
    "A --> [,(3) f(0.1) @O ]\n",
    "Segment(l) --> nF(l,ds)\n"
   ]
  },
  {
   "cell_type": "markdown",
   "id": "cf4932c3",
   "metadata": {},
   "source": [
    "## Continuous growth"
   ]
  },
  {
   "cell_type": "code",
   "execution_count": null,
   "id": "3759a397",
   "metadata": {},
   "outputs": [],
   "source": [
    "from math import exp\n",
    "\n",
    "def growth_logistic(t, L, tip, b):\n",
    "    return L / (1+exp(-(t-tip)/b))"
   ]
  },
  {
   "cell_type": "code",
   "execution_count": null,
   "id": "66c6b43f",
   "metadata": {},
   "outputs": [],
   "source": [
    "%%lpy -w 10 -a True\n",
    "\n",
    "phyllochrone = 1\n",
    "Li = 0.5\n",
    "Lf = 1\n",
    "dt = 0.01\n",
    "\n",
    "tip = phyllochrone/2\n",
    "b_i = 0.15\n",
    "b_f = 0.3\n",
    "\n",
    "Axiom:  I(0) L(0) A(0)\n",
    "derivation length: 600\n",
    "production:\n",
    "A(t): \n",
    "    if t > phyllochrone : produce /(137.5)I(0) L(0) A(0)\n",
    "    else: produce A(t+dt)\n",
    "\n",
    "I(t) --> I(t+dt)\n",
    "L(t) --> L(t+dt)\n",
    "\n",
    "interpretation:\n",
    "I(t) --> F(growth_logistic(t, Li, tip, b_i))\n",
    "L(t) --> [&(60*min(1,t)),(2) ~l(growth_logistic(t, Lf, tip, b_f))]"
   ]
  },
  {
   "cell_type": "markdown",
   "id": "e6c33aca",
   "metadata": {},
   "source": [
    "## Random patterns"
   ]
  },
  {
   "cell_type": "code",
   "execution_count": 7,
   "id": "f4dc56ef",
   "metadata": {
    "ExecuteTime": {
     "end_time": "2021-10-14T10:00:28.459561Z",
     "start_time": "2021-10-14T10:00:28.447868Z"
    }
   },
   "outputs": [
    {
     "name": "stdout",
     "output_type": "stream",
     "text": [
      "0.7500000000000003\n"
     ]
    },
    {
     "data": {
      "application/vnd.jupyter.widget-view+json": {
       "model_id": "0827480977264ee7859c6e30d8aa6dbb",
       "version_major": 2,
       "version_minor": 0
      },
      "text/plain": [
       "LsystemWidget(animate=True, derivationLength=101, is_magic=True, scene={'data': b'x\\xdaSLrw\\xf5\\xf7e`Pp\\xe0\\xe…"
      ]
     },
     "metadata": {},
     "output_type": "display_data"
    }
   ],
   "source": [
    "%%lpy -w 400 -a True\n",
    "\n",
    "from random import *\n",
    "p11 = 0.950000 # probability of staying in a branched node\n",
    "p00 = 0.850000 # probability of staying in an empty node\n",
    "print((1-p00)/(2-p00-p11))\n",
    "\n",
    "Axiom: _(1) S\n",
    "derivation length: 100\n",
    "\n",
    "# x=1 = branching state\n",
    "# x=0 = non-branching state \n",
    "\n",
    "production:\n",
    "ignore: /\n",
    "S :\n",
    "    if random() <= 0.5: produce A\n",
    "    else : produce B\n",
    "\n",
    "A : #  branching\n",
    "    nproduce /(180)I[M]\n",
    "    if random() <= p11: produce A\n",
    "    else: produce B\n",
    "\n",
    "B :  # non branching\n",
    "    nproduce I\n",
    "    if random() <= p00:  produce B\n",
    "    else: produce  A\n",
    "\n",
    "\n",
    "homomorphism:\n",
    "\n",
    "M --> ;(2)+F(20)\n",
    "I --> ;(1)F(2)\n",
    "A --> ;(1)@O(3)\n"
   ]
  },
  {
   "cell_type": "markdown",
   "id": "316a547b",
   "metadata": {},
   "source": [
    "## Positional Information"
   ]
  },
  {
   "cell_type": "code",
   "execution_count": 8,
   "id": "61198c3f",
   "metadata": {
    "ExecuteTime": {
     "end_time": "2021-10-14T10:40:27.984948Z",
     "start_time": "2021-10-14T10:40:27.981602Z"
    }
   },
   "outputs": [],
   "source": [
    "from openalea.lpy.lsysparameters import *\n",
    "from openalea.plantgl.all import *"
   ]
  },
  {
   "cell_type": "code",
   "execution_count": 9,
   "id": "402634d1",
   "metadata": {
    "ExecuteTime": {
     "end_time": "2021-10-14T10:40:28.694209Z",
     "start_time": "2021-10-14T10:40:28.384472Z"
    }
   },
   "outputs": [
    {
     "data": {
      "text/plain": [
       "(<functionmanager.FunctionManager at 0x18bf77af0>,\n",
       " NurbsCurve2D(Point3Array([Vector3(0,0.1,1),Vector3(0.333333,1,1),Vector3(0.666667,1,1),Vector3(1,0,1)])))"
      ]
     },
     "execution_count": 9,
     "metadata": {},
     "output_type": "execute_result"
    }
   ],
   "source": [
    "\n",
    "l = LsystemParameters()\n",
    "l.add_function('h', NurbsCurve2D([(0,0.1,1),(1/3,1,1),(2/3,1,1),(1,0,1)]))\n",
    "l.add_curve('path')\n",
    "l.add_curve('leaf_path')\n",
    "l.add_curve('leaf_section', Polyline2D([(-0.5,0),(0.5,0)]))\n",
    "l.add_function('leaf_width', NurbsCurve2D([(0,0.1,1),(1/3,1,1),(2/3,1,1),(1,0,1)]))\n"
   ]
  },
  {
   "cell_type": "code",
   "execution_count": 10,
   "id": "03b80541",
   "metadata": {
    "ExecuteTime": {
     "end_time": "2021-10-14T10:40:29.054372Z",
     "start_time": "2021-10-14T10:40:28.963753Z"
    }
   },
   "outputs": [
    {
     "data": {
      "application/vnd.jupyter.widget-view+json": {
       "model_id": "e910b280949f4392812a7c152002475d",
       "version_major": 2,
       "version_minor": 0
      },
      "text/plain": [
       "HBox(children=(HBox(children=(LsystemWidget(animate=True, derivationLength=21, is_magic=True, scene={'data': b…"
      ]
     },
     "metadata": {},
     "output_type": "display_data"
    }
   ],
   "source": [
    "%%lpy -a True -w 20 -p l\n",
    "l = 10\n",
    "dl = 0.5\n",
    "Axiom : ,(2) SetGuide(path,l) A(0)\n",
    "\n",
    "derivation length: int(l/dl)\n",
    "production:\n",
    "\n",
    "A(cl) --> F(dl)[&(90)L(h(cl/l)*5)][/(180)&(90)L(h(cl/l)*5)]A(cl+dl)\n",
    "\n",
    "interpretation:\n",
    "L(ll) --> /(90) Sweep(leaf_path, leaf_section, ll, 0.1, 0.5, leaf_width) "
   ]
  },
  {
   "cell_type": "markdown",
   "id": "7baf3dc1",
   "metadata": {},
   "source": [
    "## Signals"
   ]
  },
  {
   "cell_type": "code",
   "execution_count": 12,
   "id": "0c43af38",
   "metadata": {
    "ExecuteTime": {
     "end_time": "2021-10-14T12:41:29.200102Z",
     "start_time": "2021-10-14T12:41:29.189893Z"
    }
   },
   "outputs": [
    {
     "data": {
      "application/vnd.jupyter.widget-view+json": {
       "model_id": "1433cd7b9e3d443680f9ff74ba81a71e",
       "version_major": 2,
       "version_minor": 0
      },
      "text/plain": [
       "LsystemWidget(animate=True, derivationLength=151, is_magic=True, scene={'data': b'x\\xdaSLrw\\xf5\\xf7e`Pp\\xe0\\xe…"
      ]
     },
     "metadata": {},
     "output_type": "display_data"
    }
   ],
   "source": [
    "%%lpy -w 50 -a True\n",
    "\n",
    "Delay = 5\n",
    "LDelay = 10\n",
    "T = 120\n",
    "\n",
    "Axiom: R(T) I(0) A(Delay, 0)\n",
    "\n",
    "derivation length: 150\n",
    "production:\n",
    "consider: R I A B\n",
    "\n",
    "I(x) < A(d,o) :\n",
    "  # produce flower\n",
    "  if x == 1 : produce W   \n",
    "  # continue to growth\n",
    "  elif d > 0: produce A(d-1, o) \n",
    "  else:\n",
    "    # produce lateral apex\n",
    "    if o == 0: nproduce [ +(60) A(0,o+1) ] \n",
    "    # or lateral leaf\n",
    "    else : nproduce [ +(60) /(60) ,(2) ~l ] \n",
    "    produce I(0) /(180)  A(Delay if o == 0 else LDelay, o)\n",
    "\n",
    "R(t) --> R(t-1)\n",
    "\n",
    "R(t) < I(x):\n",
    " \t# Wait for the root to propagate\n",
    "\tif t < 0: produce I(1)\n",
    "\n",
    "I(x) < I(s) --> I(x)\n",
    "\n",
    "\n",
    "interpretation:\n",
    "\n",
    "W --> _(0.3) ,(3) @O\n",
    "I(x) --> ,(2 if x ==0 else 4) _(0.1 if x ==0 else 0.2) F\n",
    "\n",
    "endlsystem\n"
   ]
  },
  {
   "cell_type": "code",
   "execution_count": 19,
   "id": "c692a486",
   "metadata": {
    "ExecuteTime": {
     "end_time": "2021-10-14T12:53:28.423289Z",
     "start_time": "2021-10-14T12:53:28.412476Z"
    }
   },
   "outputs": [
    {
     "data": {
      "application/vnd.jupyter.widget-view+json": {
       "model_id": "257a81295b87402d9a23404be68fefdf",
       "version_major": 2,
       "version_minor": 0
      },
      "text/plain": [
       "LsystemWidget(animate=True, derivationLength=151, is_magic=True, scene={'data': b'x\\xdaSLrw\\xf5\\xf7e`Pp\\xe0\\xe…"
      ]
     },
     "metadata": {},
     "output_type": "display_data"
    }
   ],
   "source": [
    "%%lpy -w 50 -a True\n",
    "\n",
    "Delay = 5\n",
    "LDelay = 10\n",
    "T = 120\n",
    "lT = 4\n",
    "\n",
    "Axiom: R(T) I(0,0) A(Delay, 0)\n",
    "\n",
    "derivation length: 150\n",
    "production:\n",
    "consider: R I A B L\n",
    "\n",
    "I(x,o) < A(d,o) :\n",
    "  # produce flower\n",
    "  if x == 1 : produce W   \n",
    "  # continue to growth\n",
    "  elif d > 0: produce A(d-1, o) \n",
    "  else:\n",
    "    # produce lateral apex\n",
    "    if o == 0: nproduce [ +(60) I(0) A(0,o+1) ] \n",
    "    # or lateral leaf\n",
    "    else : nproduce [ +(60) /(60) ,(2) ~l ] \n",
    "    produce I(0) /(180)  A(Delay if o == 0 else LDelay, o)\n",
    "\n",
    "R(t) --> R(t-1)\n",
    "\n",
    "R(t) < I(x):\n",
    "\t# Wait for the root to propagate\n",
    "\tif t < 0: produce I(1)\n",
    "\n",
    "I(x) < L(t) :\n",
    "    if x == 1 : produce R(t-1)\n",
    "\n",
    "L(t) < I(s) :\n",
    "    if t < 0 : produce I(1)\n",
    "        \n",
    "I(x) < I(s) :\n",
    "    if x == 1 : produce I(x)\n",
    "\n",
    "\n",
    "interpretation:\n",
    "\n",
    "W --> _(0.3) ,(3) @O\n",
    "I(x) --> ,(2 if x ==0 else 4) _(0.1 if x ==0 else 0.2) F\n",
    "\n",
    "endlsystem\n"
   ]
  },
  {
   "cell_type": "code",
   "execution_count": 42,
   "id": "cd8e7265",
   "metadata": {
    "ExecuteTime": {
     "end_time": "2021-10-14T13:39:36.497915Z",
     "start_time": "2021-10-14T13:39:36.486929Z"
    }
   },
   "outputs": [
    {
     "data": {
      "application/vnd.jupyter.widget-view+json": {
       "model_id": "5a6aec6f985b4a2fbeeff96b5fd1d91a",
       "version_major": 2,
       "version_minor": 0
      },
      "text/plain": [
       "LsystemWidget(animate=True, derivationLength=401, is_magic=True, scene={'data': b'x\\xda\\x8d\\x94\\xcfk\\x13A\\x14\\…"
      ]
     },
     "metadata": {},
     "output_type": "display_data"
    }
   ],
   "source": [
    "%%lpy -w 100 -a True\n",
    "\n",
    "transport_speed = 0.2\n",
    "decay = 0.03\n",
    "max_creation = 2\n",
    "min_creation = 0\n",
    "\n",
    "nbEntity = 10\n",
    "\n",
    "min_level = 0.01\n",
    "max_level = 10\n",
    "\n",
    "def txt(val):\n",
    "  return str(round(val,2))[:5]\n",
    "\n",
    "Axiom: \n",
    "  nproduce _(2) \n",
    "  for i in range((nbEntity-1)//2):\n",
    "    nproduce I(min_level, min_creation)\n",
    "  nproduce I(max_level, max_creation)\n",
    "  for i in range((nbEntity-1)//2):\n",
    "    nproduce I(min_level, min_creation)\n",
    "\n",
    "def du(u, deltau, beta):\n",
    "    return max(0,u + deltau*transport_speed + beta - decay*u)\n",
    "\n",
    "derivation length: 400\n",
    "production:\n",
    "\n",
    "I(a, ca) < I(p, cp) > I(b, cb) --> I(du(p, a+b-2*p, cp), cp)\n",
    "\n",
    "I(p, cp) > I(a, ca) --> I(du(p,a-p,cp), cp)\n",
    "\n",
    "I(a, ca) < I(p, cp) --> I(du(p,a-p,cp), cp)\n",
    "\n",
    "interpretation:\n",
    "\n",
    "I(a, c) :\n",
    "    alpha =  (a-min_level)/(max_level-min_level)\n",
    "    a += 0.1\n",
    "    produce InterpolateColors(4,3, alpha)F(3)[-(90)f(5)_(1)F(a)]F(3)\n",
    "\n",
    "endlsystem\n",
    "\n"
   ]
  },
  {
   "cell_type": "markdown",
   "id": "5eafc76d",
   "metadata": {},
   "source": [
    "## Subdivision"
   ]
  },
  {
   "cell_type": "code",
   "execution_count": 59,
   "id": "63035538",
   "metadata": {
    "ExecuteTime": {
     "end_time": "2021-10-14T20:19:54.278280Z",
     "start_time": "2021-10-14T20:19:54.246449Z"
    }
   },
   "outputs": [
    {
     "name": "stderr",
     "output_type": "stream",
     "text": [
      "/Users/fboudon/Develop/miniconda3/envs/vmango-lab/lib/python3.9/site-packages/OpenAlea.Lpy-3.8.0-py3.9.egg/openalea/lpy/__init__.py:168: Warning: Interpretation rules should be context free. Contexts not supported for multiple iterations.\n",
      "  return self.setCode(code,parameters,debug)\n"
     ]
    },
    {
     "data": {
      "application/vnd.jupyter.widget-view+json": {
       "model_id": "fec0b72698d14d76be37b0c1dec1c0f3",
       "version_major": 2,
       "version_minor": 0
      },
      "text/plain": [
       "LsystemWidget(derivationLength=4, is_magic=True, scene={'data': b'x\\xda\\x8d\\x93\\xcfN\\xdb@\\x10\\xc6\\'\\xff\\x8d\\xa…"
      ]
     },
     "metadata": {},
     "output_type": "display_data"
    }
   ],
   "source": [
    "%%lpy -w 3\n",
    "from openalea.plantgl.all import *\n",
    "\n",
    "Axiom: P(Vector2(0,0)) E P(Vector2(0,1)) E P(Vector2(1,1)) E P(Vector2(1,0)) E P(Vector2(2,0)) E P(Vector2(1,-1)) E P(Vector2(0,0))\n",
    "\n",
    "derivation length: 3\n",
    "production:\n",
    "\n",
    "P(vl) < E > P(vr) --> P(vl*3/4. + vr*1/4.) E P(vl * 1/4. + vr * 3/4.)\n",
    "E < P(v) > E --> E\n",
    "\n",
    "# needed to keep end point\n",
    "E < P(v) --> E P(v) \n",
    "P(v) > E --> P(v) E \n",
    "\n",
    "interpretation:\n",
    "\n",
    "P(vl) < E > P(vr) --> ,(5) _(0.02) OLineTo(0,vr[0],vr[1])\n",
    "P(v) --> produce ,(3)@O(0.04)\n",
    "\n",
    "endlsystem\n"
   ]
  },
  {
   "cell_type": "code",
   "execution_count": 60,
   "id": "a51d04c2",
   "metadata": {
    "ExecuteTime": {
     "end_time": "2021-10-14T20:29:10.716232Z",
     "start_time": "2021-10-14T20:29:10.705825Z"
    }
   },
   "outputs": [
    {
     "data": {
      "application/vnd.jupyter.widget-view+json": {
       "model_id": "f1ea790031da4be5a0b746978389f8b9",
       "version_major": 2,
       "version_minor": 0
      },
      "text/plain": [
       "LsystemWidget(derivationLength=4, is_magic=True, scene={'data': b'x\\xda\\x8d\\x93\\xcdN\\xc2@\\x14\\x85/\\xff\\xa5\\xd8…"
      ]
     },
     "metadata": {},
     "output_type": "display_data"
    }
   ],
   "source": [
    "%%lpy -w 3\n",
    "from openalea.plantgl.all import *\n",
    "\n",
    "Axiom: P(Vector2(0,0)) E P(Vector2(0,1)) E P(Vector2(1,1)) E P(Vector2(1,0)) E P(Vector2(2,0)) E P(Vector2(1,-1)) E P(Vector2(0,0))\n",
    "\n",
    "derivation length: 3\n",
    "production:\n",
    "\n",
    "P(vl) < E > P(vr) --> E P(vl*4/8. + vr*4/8.) E \n",
    "P(vl) E < P(v) > E  P(vr) --> P(vl*1/8. + v*6/8+ vr*1/8.)\n",
    "\n",
    "interpretation:\n",
    "\n",
    "P(vl) < E > P(vr) --> ,(5) _(0.02) OLineTo(0,vr[0],vr[1])\n",
    "P(v) --> ,(3)@O(0.04)"
   ]
  },
  {
   "cell_type": "code",
   "execution_count": 61,
   "id": "67c36e67",
   "metadata": {
    "ExecuteTime": {
     "end_time": "2021-10-14T20:29:43.471440Z",
     "start_time": "2021-10-14T20:29:43.459320Z"
    }
   },
   "outputs": [
    {
     "data": {
      "application/vnd.jupyter.widget-view+json": {
       "model_id": "eae0887ee311426da1b621db933cb68e",
       "version_major": 2,
       "version_minor": 0
      },
      "text/plain": [
       "LsystemWidget(derivationLength=4, is_magic=True, scene={'data': b'x\\xda\\x8d\\x93ON\\xc2@\\x14\\xc6\\x1f\\xffk\\xb1k\\x…"
      ]
     },
     "metadata": {},
     "output_type": "display_data"
    }
   ],
   "source": [
    "%%lpy -w 3\n",
    "from openalea.plantgl.all import *\n",
    "\n",
    "Axiom: P(Vector2(0,0)) E P(Vector2(0,1)) E P(Vector2(1,1)) E P(Vector2(1,0)) E P(Vector2(2,0)) E P(Vector2(1,-1)) E P(Vector2(0,0))\n",
    "\n",
    "derivation length: 3\n",
    "production:\n",
    "\n",
    "P(v0) E P(v1) < E > P(v2) E P(v3)  --> E P(v0*-1/16. + v1*9/16. + v2*9/16. +v3*-1/16.) E \n",
    "\n",
    "P(v1) < E > P(v2) E P(v3)  --> E P(v1*8/16. + v2*9/16. +v3*-1/16.) E \n",
    "P(v0) E P(v1) < E > P(v2)   --> E P(v0*-1/16. + v1*9/16. + v2*8/16. ) E \n",
    "\n",
    "\n",
    "interpretation:\n",
    "\n",
    "P(vl) < E > P(vr) --> ,(5) _(0.02) OLineTo(0,vr[0],vr[1])\n",
    "P(v) --> ,(3)@O(0.04)"
   ]
  },
  {
   "cell_type": "markdown",
   "id": "4f1692be",
   "metadata": {},
   "source": [
    "## Space colonization"
   ]
  },
  {
   "cell_type": "code",
   "execution_count": 2,
   "id": "25c16dc7",
   "metadata": {
    "ExecuteTime": {
     "end_time": "2021-10-15T10:46:03.170408Z",
     "start_time": "2021-10-15T10:46:02.925151Z"
    }
   },
   "outputs": [],
   "source": [
    "from openalea.lpy.lsysparameters import *\n",
    "import openalea.plantgl.all as pgl\n",
    "l = LsystemParameters()\n",
    "profile_ = pgl.NurbsCurve2D([(0, 0.0181818, 1),\n",
    "         (0.219697, 0.0363636, 1),(0.297727, 0.313636, 1),(0.389394, 0.327273, 1),\n",
    "         (0.593182, 0.290909, 1),(0.688636, 0.0590909, 1),(0.784091, 0.0954545, 1),\n",
    "         (0.884091, 0.172727, 1),(1, 0, 1)] )\n",
    "\n",
    "_ = l.add_function('profile', profile_)"
   ]
  },
  {
   "cell_type": "code",
   "execution_count": 4,
   "id": "d9329f54",
   "metadata": {
    "ExecuteTime": {
     "end_time": "2021-10-15T10:48:33.739569Z",
     "start_time": "2021-10-15T10:48:33.432219Z"
    }
   },
   "outputs": [
    {
     "data": {
      "application/vnd.jupyter.widget-view+json": {
       "model_id": "ef4b8948483e4457b101d0ab9cdcae31",
       "version_major": 2,
       "version_minor": 0
      },
      "text/plain": [
       "HBox(children=(HBox(children=(LsystemWidget(derivationLength=101, is_magic=True, scene={'data': b'x\\xda\\x9c\\xb…"
      ]
     },
     "metadata": {},
     "output_type": "display_data"
    }
   ],
   "source": [
    "%%lpy -w 30 -p l\n",
    "\n",
    "from openalea.plantgl.all import *\n",
    "from random import uniform\n",
    "from math import pi,radians\n",
    "\n",
    "extern(profile = None)\n",
    "\n",
    "def generate_points(nbpoints,size):\n",
    "  pts = []\n",
    "  for i in range(nbpoints):\n",
    "    angle = uniform(0,2 * pi)\n",
    "    ok = False\n",
    "    while not ok:\n",
    "      x,y,z =  uniform(-1,1),uniform(-1,1),uniform(0,1)\n",
    "      if (x**2+y**2) <= profile(z)**2: ok = True\n",
    "    pts.append(Vector3(x,y,z)*size)\n",
    "  return pts\n",
    "\n",
    "pts = generate_points(5000,20)\n",
    "\n",
    "scale = 1\n",
    "grow_dist = 1 * scale\n",
    "killradius = grow_dist * 1.\n",
    "perceptionradius = grow_dist * 1.5 \n",
    "min_nb_pt = 5\n",
    "rootpos = Vector3(0,0,1)\n",
    "\n",
    "# place the attractor points into a grid\n",
    "attractor_grid = Point3Grid(pts, 10)\n",
    "\n",
    "rootattr = attractor_grid.query_ball_point(rootpos, perceptionradius)\n",
    "attractor_grid.disable_points(attractor_grid.query_ball_point(rootpos, killradius) )\n",
    "\n",
    "backward()\n",
    "\n",
    "initial_radius = 0.04\n",
    "e = 2.5\n",
    "\n",
    "def piperadius(ris):\n",
    "   return pow(sum([pow(ri,e) for ri in ris]),1./e)\n",
    "\n",
    "module Bud, I, Node, Attractors\n",
    "\n",
    "Axiom: Attractors @Gc Bud(rootpos, rootattr)\n",
    "\n",
    "derivation length: 100\n",
    "production:\n",
    "\n",
    "\n",
    "Bud(pt, atts) :  \n",
    "       # compute mean direction    \n",
    "       mean_dir = pointset_mean_direction(pt,pts,atts)\n",
    "       # compute new position\n",
    "       new_pt = pt + mean_dir * grow_dist        \n",
    "       # remove closest attractors\n",
    "       localattractors = attractor_grid.query_ball_point(new_pt,killradius)\n",
    "       attractor_grid.disable_points(localattractors )\n",
    "       # produce active nodes    \n",
    "       produce I(new_pt,initial_radius) Node(new_pt)\n",
    "\n",
    "Node(pt):\n",
    "  # find nearest attractor points in cone of perception of given radius and angle\n",
    "  attractors = attractor_grid.query_ball_point(pt,perceptionradius)\n",
    "  if len(attractors ) >= min_nb_pt: # if enough attractors are available \n",
    "     produce [Bud(pt,  attractors)] Node(pt)\n",
    "  else:\n",
    "     produce \n",
    "\n",
    "I(pt, r) >> x([I(lpt, lr)]) :\n",
    "  if len(lr) >= 1:\n",
    "    produce I(pt,piperadius(lr))\n",
    "\n",
    "interpretation:\n",
    "\n",
    "I(pos,radius) --> _(radius) LineTo(pos)\n",
    "Bud(pt, atts) -->  [SetColor(5) Sphere(0.1*scale)]\n",
    "Node(pt) -->  [SetColor(3) Sphere(0.1*scale)]\n",
    "\n",
    "Attractors :\n",
    "  pttodisplay = attractor_grid.get_enabled_points()\n",
    "  if len(pttodisplay) > 0:\n",
    "    nproduce [,(3)\n",
    "    for p in pttodisplay:\n",
    "        nproduce @M(p) Sphere(0.05) \n",
    "    produce ]\n",
    "endlsystem"
   ]
  },
  {
   "cell_type": "code",
   "execution_count": 56,
   "id": "f4c75473",
   "metadata": {
    "ExecuteTime": {
     "end_time": "2021-10-14T16:50:24.037296Z",
     "start_time": "2021-10-14T16:50:23.837588Z"
    }
   },
   "outputs": [
    {
     "data": {
      "application/vnd.jupyter.widget-view+json": {
       "model_id": "fbe619076fc04252b4787d12df5cfbbd",
       "version_major": 2,
       "version_minor": 0
      },
      "text/plain": [
       "HBox(children=(HBox(children=(LsystemWidget(derivationLength=101, is_magic=True, scene={'data': b'x\\xda4\\x97\\x…"
      ]
     },
     "metadata": {},
     "output_type": "display_data"
    }
   ],
   "source": [
    "%%lpy -w 30 -p l\n",
    "\n",
    "from openalea.plantgl.all import *\n",
    "from random import uniform\n",
    "from math import pi,radians\n",
    "\n",
    "def generate_points(nbpoints,size):\n",
    "  pts = []\n",
    "  for i in range(nbpoints):\n",
    "    angle = uniform(0,2 * pi)\n",
    "    ok = False\n",
    "    while not ok:\n",
    "      x,y,z =  uniform(-1,1),uniform(-1,1),uniform(0,1)\n",
    "      if (x**2+y**2) <= profile(z)**2: ok = True\n",
    "    pts.append(Vector3(x,y,z)*size)\n",
    "  return pts\n",
    "\n",
    "pts = generate_points(5000,20)\n",
    "\n",
    "scale = 1\n",
    "grow_dist = scale\n",
    "killradius = grow_dist * 1\n",
    "perceptionradius = grow_dist * 1.5 \n",
    "perceptionangle = radians(90.0)\n",
    "\n",
    "min_nb_pt = 2\n",
    "\n",
    "initial_radius = 0.1\n",
    "\n",
    "rootpos = Vector3(0,0,1)\n",
    "rootdir = Vector3(0,0,1)\n",
    "\n",
    "# place the attractor points into a grid\n",
    "attractor_grid = Point3Grid(pts, 10)\n",
    "\n",
    "rootattr = attractor_grid.query_points_in_cone(rootpos, rootdir, perceptionradius, perceptionangle)\n",
    "attractor_grid.disable_points(rootattr )\n",
    "\n",
    "\n",
    "Attractors = {}\n",
    "def register_attractors(attractors, node):\n",
    "   \"\"\" Check for competition for attractors.  If an attractors is already assign to another bud, \n",
    "       check which is the closest and assign to it. \"\"\"\n",
    "   global Attractors\n",
    "   todel = []\n",
    "   for at in attractors:\n",
    "     dist = norm(pts[at]-node)\n",
    "     if at in Attractors:\n",
    "        r = Attractors[at]\n",
    "        if dist < r[0]:\n",
    "            del r[1][r[1].index(at)]\n",
    "            r = (dist,attractors)\n",
    "        else:\n",
    "           todel.append(at)\n",
    "     else:\n",
    "        r = (dist,attractors)\n",
    "     Attractors[at] = r\n",
    "   for d in todel:\n",
    "       attractors.remove(d)\n",
    "\n",
    "\n",
    "def children_dirs(dir, angle = 60, nb = 4):\n",
    "    # compute a whorl of 'nb' buds at branching angles.\n",
    "    rotdir = direction(dir.anOrthogonalVector())\n",
    "    rotmat = Matrix3.axisRotation(rotdir, radians(angle))\n",
    "    v0 = rotmat * dir\n",
    "    return [dir]+[v0]+[ Matrix3.axisRotation(dir, i * 2* pi/nb) *v0 for i in range(1,nb)]\n",
    "\n",
    "def StartEach():\n",
    "  global Attractors\n",
    "  Attractors = {}\n",
    "\n",
    "backward()\n",
    "\n",
    "initial_radius = 0.04\n",
    "e = 2.5\n",
    "\n",
    "def piperadius(ris):\n",
    "   return pow(sum([pow(ri,e) for ri in ris]),1./e)\n",
    "\n",
    "\n",
    "module Shoot, Bud, I, Attractors\n",
    "\n",
    "Axiom: Attractors Bud(rootpos,rootattr)\n",
    "\n",
    "derivation length: 100\n",
    "production:\n",
    "\n",
    "\n",
    "Bud(pt, atts) :  \n",
    "   if len(atts) > min_nb_pt: # if enough attractors are available \n",
    "       # compute mean direction    \n",
    "       mean_dir = pointset_mean_direction(pt,pts,atts)\n",
    "       # compute new position\n",
    "       new_pt = pt + mean_dir * grow_dist        \n",
    "       # remove closest attractors\n",
    "       localattractors = attractor_grid.query_ball_point(new_pt,killradius)\n",
    "       attractor_grid.disable_points(localattractors )\n",
    "       # produce active nodes    \n",
    "       produce [I(pt,initial_radius) Node(new_pt,direction(new_pt-pt))]\n",
    "   else:    \n",
    "       # remove node   \n",
    "       produce\n",
    "\n",
    "I(pt, r) >> x([I(lpt, lr)]) :\n",
    "  if len(lr) >= 1:\n",
    "    produce I(pt,piperadius(lr))\n",
    "\n",
    "\n",
    "Node(pt, dir):\n",
    "  for d in children_dirs(dir):\n",
    "     # find nearest attractor points in cone of perception of given radius and angle\n",
    "     attractors = attractor_grid.query_points_in_cone(pt,d, perceptionradius, perceptionangle)\n",
    "     register_attractors(attractors , pt) # to check conflict\n",
    "     if len(attractors ) >= min_nb_pt: # generate lateral buds\n",
    "        nproduce Bud(pt, attractors)\n",
    "\n",
    "interpretation:\n",
    "\n",
    "I(pos,radius) --> _(radius) LineTo(pos)\n",
    "Bud(pt, cdir, atts) -->  [SetColor(5) Sphere(0.1*scale)]\n",
    "Attractors :\n",
    "  pttodisplay = attractor_grid.get_enabled_points()\n",
    "  if len(pttodisplay) > 0:\n",
    "    produce [,(3) @g(PointSet(pttodisplay,width=2))]\n",
    "endlsystem\n"
   ]
  },
  {
   "cell_type": "code",
   "execution_count": null,
   "id": "b2173779",
   "metadata": {},
   "outputs": [],
   "source": []
  }
 ],
 "metadata": {
  "kernelspec": {
   "display_name": "Python 3 (ipykernel)",
   "language": "python",
   "name": "python3"
  },
  "language_info": {
   "codemirror_mode": {
    "name": "ipython",
    "version": 3
   },
   "file_extension": ".py",
   "mimetype": "text/x-python",
   "name": "python",
   "nbconvert_exporter": "python",
   "pygments_lexer": "ipython3",
   "version": "3.9.6"
  }
 },
 "nbformat": 4,
 "nbformat_minor": 5
}
