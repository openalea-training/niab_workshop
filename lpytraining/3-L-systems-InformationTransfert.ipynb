{
 "cells": [
  {
   "cell_type": "markdown",
   "metadata": {},
   "source": [
    "# Information Transfer\n"
   ]
  },
  {
   "cell_type": "code",
   "execution_count": 2,
   "metadata": {
    "ExecuteTime": {
     "end_time": "2021-11-16T16:19:15.281964Z",
     "start_time": "2021-11-16T16:19:14.575264Z"
    }
   },
   "outputs": [],
   "source": [
    "from pgljupyter import *"
   ]
  },
  {
   "cell_type": "markdown",
   "metadata": {},
   "source": [
    "## Signals\n",
    "\n",
    "Complete the following model  to simulate the propagation of a signal\n",
    "\n"
   ]
  },
  {
   "cell_type": "code",
   "execution_count": 4,
   "metadata": {
    "ExecuteTime": {
     "end_time": "2021-10-14T12:25:52.037306Z",
     "start_time": "2021-10-14T12:25:52.023328Z"
    }
   },
   "outputs": [
    {
     "data": {
      "application/vnd.jupyter.widget-view+json": {
       "model_id": "1502f88041cf44829812401095cc27ad",
       "version_major": 2,
       "version_minor": 0
      },
      "text/plain": [
       "LsystemWidget(animate=True, derivationLength=151, is_magic=True, scene={'data': b'x\\xdaSLrw\\xf5\\xf7e`Pp\\xe0\\xe…"
      ]
     },
     "metadata": {},
     "output_type": "display_data"
    }
   ],
   "source": [
    "%%lpy -w 50 -a True\n",
    "\n",
    "Delay = 5\n",
    "LDelay = 10\n",
    "T = 120\n",
    "\n",
    "Axiom: R(T) I(0) A(Delay, 0)\n",
    "\n",
    "derivation length: 150\n",
    "production:\n",
    "consider: R I A B\n",
    "\n",
    "I(x) < A(d,o) :\n",
    "  # produce flower\n",
    "  if x == 1 : produce W   \n",
    "  # continue to growth\n",
    "  elif d > 0: produce A(d-1, o) \n",
    "  else:\n",
    "    # produce lateral apex\n",
    "    if o == 0: nproduce [ +(60) A(0,o+1) ] \n",
    "    # or lateral leaf\n",
    "    else : nproduce [ +(60) /(60) ,(2) ~l ] \n",
    "    produce I(0) /(180)  A(Delay if o == 0 else LDelay, o)\n",
    "\n",
    "R(t) --> R(t-1)\n",
    "\n",
    "\n",
    "\n",
    "interpretation:\n",
    "\n",
    "W --> _(0.3) ,(3) @O\n",
    "I(x) --> ,(2 if x ==0 else 4) _(0.1 if x ==0 else 0.2) F\n",
    "\n",
    "endlsystem\n"
   ]
  },
  {
   "cell_type": "markdown",
   "metadata": {},
   "source": [
    "### Modelling Fluxes\n",
    "\n",
    " - Model correctly the flux\n",
    "<center>$\\frac{\\delta u}{\\delta t} = \\alpha \\Delta u + \\beta - \\gamma u$</center>\n",
    "\n",
    "  - Change the source of creation of the hormone in the middle internodes"
   ]
  },
  {
   "cell_type": "code",
   "execution_count": 24,
   "metadata": {
    "ExecuteTime": {
     "end_time": "2021-10-14T13:44:17.262473Z",
     "start_time": "2021-10-14T13:44:17.251327Z"
    }
   },
   "outputs": [
    {
     "data": {
      "application/vnd.jupyter.widget-view+json": {
       "model_id": "aac97e5cfb1947f5af095e478abe2deb",
       "version_major": 2,
       "version_minor": 0
      },
      "text/plain": [
       "LsystemWidget(animate=True, derivationLength=401, is_magic=True, scene={'data': b'x\\xda\\x8d\\x96\\xcdn\\xd3@\\x10\\…"
      ]
     },
     "metadata": {},
     "output_type": "display_data"
    }
   ],
   "source": [
    "%%lpy -w 100 -a True\n",
    "\n",
    "transport_speed = 0.2\n",
    "decay = 0.03\n",
    "max_beta = 2\n",
    "min_beta = 0\n",
    "\n",
    "nbEntity = 10\n",
    "\n",
    "min_level = 0.01\n",
    "max_level = 10\n",
    "\n",
    "def txt(val):\n",
    "  return str(round(val,2))[:5]\n",
    "\n",
    "Axiom: \n",
    "  nproduce _(2) \n",
    "  for i in range(nbEntity-1):\n",
    "    nproduce I(min_level, min_beta)\n",
    "  nproduce I(min_level, max_beta)\n",
    "\n",
    "def du(u, deltau, beta):\n",
    "    return u + deltau*transport_speed + beta - decay*u\n",
    "\n",
    "derivation length: 400\n",
    "production:\n",
    "\n",
    "I(a, ba) < I(p, bp) > I(b, bb) --> I(du(p, a+b-2*p, bp), bp)\n",
    "I(p, bp) > I(a, ba) --> I(du(p,a-p,bp), bp)\n",
    "I(a, ba) < I(p, bp) --> I(du(p,a-p,bp), bp)\n",
    "\n",
    "interpretation:\n",
    "\n",
    "I(a, c) :\n",
    "    alpha =  (a-min_level)/(max_level-min_level)\n",
    "    a += 0.1\n",
    "    produce InterpolateColors(4,3, alpha)F(3)[-(90)f(5)_(1)F(a)]F(3)\n",
    "\n",
    "endlsystem\n"
   ]
  },
  {
   "cell_type": "markdown",
   "metadata": {},
   "source": [
    "## Subdivision curves\n",
    "\n",
    "Example of simple interpolating scheme"
   ]
  },
  {
   "cell_type": "code",
   "execution_count": 4,
   "metadata": {
    "ExecuteTime": {
     "end_time": "2021-11-16T16:21:42.544983Z",
     "start_time": "2021-11-16T16:21:42.533422Z"
    }
   },
   "outputs": [
    {
     "data": {
      "application/vnd.jupyter.widget-view+json": {
       "model_id": "c90ab0b5d2f84f60b3c27c67ae190cc4",
       "version_major": 2,
       "version_minor": 0
      },
      "text/plain": [
       "LsystemWidget(derivationLength=4, is_magic=True, scene={'data': b'x\\xda\\x8d\\x94Oj\\xdb@\\x14\\xc6\\x9f\\xff\\xabj\\xb…"
      ]
     },
     "metadata": {},
     "output_type": "display_data"
    }
   ],
   "source": [
    "%%lpy -w 3\n",
    "from openalea.plantgl.all import *\n",
    "\n",
    "Axiom: P(Vector2(0,0)) E P(Vector2(0,1)) E P(Vector2(1,1)) E P(Vector2(1,0)) E P(Vector2(2,0)) E P(Vector2(1,-1)) E P(Vector2(0,0))\n",
    "\n",
    "derivation length: 3\n",
    "production:\n",
    "\n",
    "P(vl) < E > P(vr) --> E P(vl/2 + vr/2) E\n",
    "P(vl) E < P(v) > E P(vr) --> P((vl + 6*v + vr)/8) \n",
    "\n",
    "interpretation:\n",
    "\n",
    "P(vl) < E > P(vr) --> ,(5) _(0.02) OLineTo(0,vr[0],vr[1])\n",
    "P(v) --> ,(3)@O(0.04)\n",
    "\n",
    "endlsystem\n"
   ]
  },
  {
   "cell_type": "markdown",
   "metadata": {},
   "source": [
    "Implement the following scheme\n",
    "\n",
    " - Chaikin : $\\frac{1}{4} [1 ~ 3 ~ 3  ~ 1]$ \n",
    " - Dyn, Levin and Micchelli : $\\frac{1}{8} [1 ~ 4 ~ 6 ~ 4 ~ 1]$\n",
    " - 4 points scheme : $\\frac{1}{16} [-1 ~ 0 ~ 9 ~ 16 ~ 9 ~ 0 ~ -1]$"
   ]
  },
  {
   "cell_type": "code",
   "execution_count": null,
   "metadata": {},
   "outputs": [],
   "source": []
  }
 ],
 "metadata": {
  "kernelspec": {
   "display_name": "Python 3 (ipykernel)",
   "language": "python",
   "name": "python3"
  },
  "language_info": {
   "codemirror_mode": {
    "name": "ipython",
    "version": 3
   },
   "file_extension": ".py",
   "mimetype": "text/x-python",
   "name": "python",
   "nbconvert_exporter": "python",
   "pygments_lexer": "ipython3",
   "version": "3.9.6"
  }
 },
 "nbformat": 4,
 "nbformat_minor": 2
}
