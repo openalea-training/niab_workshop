{
 "cells": [
  {
   "cell_type": "markdown",
   "metadata": {},
   "source": [
    "## Importing a scan of an apple tree in summer\n",
    "\n",
    "Let's consider a cleaned scan of a young apple tree made during summer with foliage. It can be downloaded [here][summerscan] (unzip it before using it). To have a look, you can import it into PlantScan3D or MeshLab.\n",
    "\n",
    "![summertree][summertree]\n",
    "\n",
    "\n",
    "[summerscan]: ./summertree.xyz.gzip\n",
    "[summertree]: img/summertree.png"
   ]
  },
  {
   "cell_type": "markdown",
   "metadata": {},
   "source": [
    "## Importing it under python\n",
    "\n",
    "To manipulate this point set, we will use the numerical array of the numpy module of python"
   ]
  },
  {
   "cell_type": "code",
   "execution_count": 2,
   "metadata": {},
   "outputs": [
    {
     "name": "stdout",
     "output_type": "stream",
     "text": [
      "Number of points : 98940\n"
     ]
    }
   ],
   "source": [
    "import numpy as np\n",
    "\n",
    "points = np.loadtxt('summertree.xyz')\n",
    "\n",
    "print ('Number of points :', len(points))"
   ]
  },
  {
   "cell_type": "markdown",
   "metadata": {},
   "source": [
    "This point array makes it possible to access and manipulate easily the points. Some standard operations on vector such as norm, dot and cross product are defined in numpy and its submodule."
   ]
  },
  {
   "cell_type": "code",
   "execution_count": 3,
   "metadata": {},
   "outputs": [],
   "source": [
    "# Example of manipulation of points\n",
    "\n",
    "# Acessing z coordinates of the first point\n",
    "z0 = points[0,2]\n",
    "\n",
    "# Acessing all z coordinates\n",
    "zs = points[:,2]\n",
    "\n",
    "# Computing the distance between the first and second point of the set\n",
    "from numpy.linalg import norm\n",
    "distance = norm(points[0] - points[1])\n",
    "\n",
    "# Computing the average Z value of a point set\n",
    "meanZ = np.mean(zs)\n",
    "\n",
    "# To sort a one dimension of the coordinates\n",
    "sortedZ = sorted(zs)\n",
    "\n",
    "# To sort the 3 coordinates according to one dimension\n",
    "def sort_points(points, dimension):\n",
    "    return np.array(sorted(points, key = lambda p : p[2]))"
   ]
  },
  {
   "cell_type": "markdown",
   "metadata": {},
   "source": [
    "## Defining shape features\n",
    "\n",
    "We will now define functions to extract shape features from the point set. \n",
    "\n",
    "### Volume\n",
    "\n",
    "As an example we will first defined a function to determine the volume of the point set. For this, we will compute the [convex hull][convexhull] of the points and determine its volume.\n",
    "\n",
    "[convexhull]: https://en.wikipedia.org/wiki/Convex_hull"
   ]
  },
  {
   "cell_type": "code",
   "execution_count": 5,
   "metadata": {},
   "outputs": [
    {
     "name": "stdout",
     "output_type": "stream",
     "text": [
      "Volume : 3.881088520411347 m3\n"
     ]
    }
   ],
   "source": [
    "def pointset_volume(points):\n",
    "    \"\"\" Compute the volume of the convex hull of the point set \"\"\"\n",
    "    from scipy.spatial import ConvexHull\n",
    "    return ConvexHull(points).volume\n",
    "\n",
    "print ('Volume :', pointset_volume(points),'m3')"
   ]
  },
  {
   "cell_type": "markdown",
   "metadata": {},
   "source": [
    "### Height\n",
    "\n",
    "As a second example, we will determine the height of the tree. To avoid sensitivity to outlier, we will select the top and bottom points in a range, compute the barycenter of the top and bottom layers and substract their height."
   ]
  },
  {
   "cell_type": "code",
   "execution_count": 6,
   "metadata": {},
   "outputs": [
    {
     "name": "stdout",
     "output_type": "stream",
     "text": [
      "Height : 2.719246963562753 m\n"
     ]
    }
   ],
   "source": [
    "def pointset_height(pointset, selectionratio = 0.0025):\n",
    "    \"\"\" Compute height by comparing average height of a selection of points of min height and of max height \"\"\"\n",
    "    # Retrieve all the z coordinates and sort them\n",
    "    height_vector = sorted(pointset[:,2])\n",
    "    # determine number of points in the top and bottom layer according to the selectionratio\n",
    "    selection = int(selectionratio*len(height_vector))\n",
    "    # Select top points (negative indices start from the end of the list)\n",
    "    mean_top_height = np.mean(height_vector[ - selection - 1 :  - 1])\n",
    "    # Select bottom points\n",
    "    mean_bottom_height = np.mean(height_vector[0:selection])\n",
    "    # Determine height\n",
    "    height =  mean_top_height -  mean_bottom_height\n",
    "    return height\n",
    "\n",
    "print (\"Height :\", pointset_height(points),'m')"
   ]
  },
  {
   "cell_type": "markdown",
   "metadata": {},
   "source": [
    "### Radius\n",
    "\n",
    "As an exercise, you should determine the radius of the tree crown. For this, the mean $x$ and $y$ coordinates of the point set should be determined. The radius of each points, estimated as the distance to mean $x$ and $y$, should be computed and sorted. Similarly to height, a set of point with maximum radius is selected and used to determined an average mean radius distance.\n",
    "\n",
    "You should complete the following canvas "
   ]
  },
  {
   "cell_type": "code",
   "execution_count": 7,
   "metadata": {},
   "outputs": [
    {
     "name": "stdout",
     "output_type": "stream",
     "text": [
      "Radius : None m\n"
     ]
    }
   ],
   "source": [
    "def poinset_meanxy(pointset):\n",
    "    # compute mean x and y coordinates\n",
    "    return np.array([np.mean(pointset[:,0]),np.mean(pointset[:,1])])\n",
    "    pass\n",
    "    \n",
    "def pointset_radius(pointset, selectionratio = 0.0025):\n",
    "    # determine selection\n",
    "    selection = int(selectionratio*len(pointset))\n",
    "    # compute mean x and y coordinates using previous function\n",
    "    # compute radius corresponding to each points\n",
    "    # sort radii\n",
    "    # compute mean of the selection of bigger radii\n",
    "    # return value\n",
    "    pass\n",
    "\n",
    "print ('Radius :', pointset_radius(points), 'm')"
   ]
  },
  {
   "cell_type": "markdown",
   "metadata": {},
   "source": [
    "### Max excentricity\n",
    "\n",
    "As a second exercice, you should estimate the maximum excentricity of the crown. For this, we estimate a number of sets of points corresponding to z-layers. For each layer, we determine the mean $x$ and $y$ coordinates and compare it to the mean $x$ and $y$ coordinates of the whole point clouds. We select the maximum value of excentricity.\n",
    "\n",
    "You should complete the following canvas."
   ]
  },
  {
   "cell_type": "code",
   "execution_count": 11,
   "metadata": {},
   "outputs": [
    {
     "name": "stdout",
     "output_type": "stream",
     "text": [
      "Max excentricity : None\n"
     ]
    }
   ],
   "source": [
    "def pointset_max_excentricity(pointset, nblayers = 10):\n",
    "    nbpointsperlayer = int(len(pointset)/nblayers)\n",
    "    # compute mean x and y coordinates for the entire pointset\n",
    "    # Sort point according to their z value.\n",
    "    excentricity = 0\n",
    "    for i in range(nblayers):\n",
    "        # determine pointset of the layer\n",
    "        # compute mean x and y coordinates for the layer\n",
    "        # compute layer excentricity\n",
    "        # compare to previous value and select it if bigger.\n",
    "        pass\n",
    "    # return biggest value of excentricity\n",
    "\n",
    "print ('Max excentricity :', pointset_max_excentricity(points))"
   ]
  },
  {
   "cell_type": "markdown",
   "metadata": {},
   "source": [
    "## Application on a set of scans\n",
    "\n",
    "Once the shape feature functions have been defined, a procedure can be defined that parse set of scans and generate the shape feature values and output them into a file. "
   ]
  },
  {
   "cell_type": "code",
   "execution_count": 10,
   "metadata": {},
   "outputs": [],
   "source": [
    "def generate_shapefeature(fnames, outfile = 'analysis.csv'):\n",
    "    stream = file(outfile,'w')\n",
    "    stream.write('Filename\\tVolume\\tHeight\\tRadius\\tMaxExcentricity\\n')\n",
    "    for fname in fnames:\n",
    "        points = np.loadtxt(fname)\n",
    "        stream.write(fname)\n",
    "        stream.write('\\t'+str(pointset_volume(points)))\n",
    "        stream.write('\\t'+str(pointset_height(points)))\n",
    "        stream.write('\\t'+str(pointset_radius(points)))\n",
    "        stream.write('\\t'+str(pointset_max_excentricity(points)))\n",
    "        stream.write('\\n')\n",
    "    "
   ]
  },
  {
   "cell_type": "markdown",
   "metadata": {},
   "source": [
    "Download a set of scans and generate the shape features for each scans. Compute mean and standard deviation for each features."
   ]
  },
  {
   "cell_type": "markdown",
   "metadata": {},
   "source": [
    "## Solutions can be found [here](Solutions for Analysis of laser scans.ipynb)\n"
   ]
  },
  {
   "cell_type": "code",
   "execution_count": null,
   "metadata": {},
   "outputs": [],
   "source": []
  }
 ],
 "metadata": {
  "kernelspec": {
   "display_name": "Python 3",
   "language": "python",
   "name": "python3"
  },
  "language_info": {
   "codemirror_mode": {
    "name": "ipython",
    "version": 3
   },
   "file_extension": ".py",
   "mimetype": "text/x-python",
   "name": "python",
   "nbconvert_exporter": "python",
   "pygments_lexer": "ipython3",
   "version": "3.8.6"
  }
 },
 "nbformat": 4,
 "nbformat_minor": 2
}
