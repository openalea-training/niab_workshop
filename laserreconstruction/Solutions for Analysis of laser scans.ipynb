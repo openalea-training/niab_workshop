{
 "cells": [
  {
   "cell_type": "markdown",
   "metadata": {},
   "source": [
    "# Solutions for Analysis of laser scans"
   ]
  },
  {
   "cell_type": "code",
   "execution_count": 1,
   "metadata": {},
   "outputs": [],
   "source": [
    "import numpy as np\n",
    "\n",
    "points = np.loadtxt('summertree.xyz')\n",
    "\n",
    "# To sort the 3 coordinates according to one dimension\n",
    "def sort_points(points, dimension):\n",
    "    return np.array(sorted(points, key = lambda p : p[2]))"
   ]
  },
  {
   "cell_type": "markdown",
   "metadata": {},
   "source": [
    "## Radius"
   ]
  },
  {
   "cell_type": "code",
   "execution_count": 3,
   "metadata": {},
   "outputs": [
    {
     "name": "stdout",
     "output_type": "stream",
     "text": [
      "Radius : 1.2906507544529555 m\n"
     ]
    }
   ],
   "source": [
    "def poinset_meanxy(pointset):\n",
    "    return np.array([np.mean(pointset[:,0]),np.mean(pointset[:,1])])\n",
    "    \n",
    "def pointset_radius(pointset, selectionratio = 0.0025):\n",
    "    # determine selection\n",
    "    selection = int(selectionratio*len(pointset))\n",
    "    # compute mean x and y coordinates using previous function\n",
    "    xmean, ymean = poinset_meanxy(pointset)\n",
    "    # compute radius corresponding to each points\n",
    "    radii = np.sqrt((pointset[:,0]-xmean)**2 + (pointset[:,1]-ymean)**2)\n",
    "    # sort radii\n",
    "    radii = sorted(radii)\n",
    "    # compute mean of the selection of bigger radii\n",
    "    radius = np.mean(radii[ - selection - 1 :  - 1])\n",
    "    # return value\n",
    "    return radius\n",
    "\n",
    "print ('Radius :', pointset_radius(points), 'm')"
   ]
  },
  {
   "cell_type": "markdown",
   "metadata": {},
   "source": [
    "## Max excentricity"
   ]
  },
  {
   "cell_type": "code",
   "execution_count": 7,
   "metadata": {},
   "outputs": [
    {
     "name": "stdout",
     "output_type": "stream",
     "text": [
      "Max excentricity : 0.41704637760248553\n"
     ]
    }
   ],
   "source": [
    "def pointset_max_excentricity(pointset, nblayers = 10):\n",
    "    from numpy.linalg import norm\n",
    "    \n",
    "    nbpointsperlayer = int(len(pointset)/nblayers)\n",
    "    # compute mean x and y coordinates for the entire pointset\n",
    "    center = poinset_meanxy(pointset)\n",
    "    # Sort point according to their z value.\n",
    "    pointset = sort_points(pointset,2)\n",
    "    \n",
    "    maxexcentricity = 0\n",
    "    for i in range(nblayers):\n",
    "        # determine pointset of the layer\n",
    "        layer = pointset[i*nbpointsperlayer:(i+1)*nbpointsperlayer]\n",
    "        # compute mean x and y coordinates for the layer\n",
    "        lcenter = poinset_meanxy(layer)\n",
    "        # compare to previous value and select it if bigger.\n",
    "        excentricity = norm(lcenter-center)\n",
    "        #print excentricity\n",
    "        maxexcentricity = max(excentricity,maxexcentricity)\n",
    "    return maxexcentricity\n",
    "\n",
    "print ('Max excentricity :', pointset_max_excentricity(points))"
   ]
  },
  {
   "cell_type": "code",
   "execution_count": null,
   "metadata": {},
   "outputs": [],
   "source": []
  }
 ],
 "metadata": {
  "kernelspec": {
   "display_name": "Python 3",
   "language": "python",
   "name": "python3"
  },
  "language_info": {
   "codemirror_mode": {
    "name": "ipython",
    "version": 3
   },
   "file_extension": ".py",
   "mimetype": "text/x-python",
   "name": "python",
   "nbconvert_exporter": "python",
   "pygments_lexer": "ipython3",
   "version": "3.8.6"
  }
 },
 "nbformat": 4,
 "nbformat_minor": 2
}
